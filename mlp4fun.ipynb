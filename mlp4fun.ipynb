{
 "cells": [
  {
   "cell_type": "code",
   "execution_count": 105,
   "id": "9fef164e-7b33-48e8-9ce8-2b5e97eafeed",
   "metadata": {},
   "outputs": [],
   "source": [
    "import torch\n",
    "torch.manual_seed(1)\n",
    "import numpy as np\n",
    "import csv\n",
    "import matplotlib\n",
    "import matplotlib.pyplot as plt\n",
    "import torch.nn.functional as F\n",
    "import pandas as pd\n",
    "from sklearn.model_selection import train_test_split\n",
    "from sklearn.preprocessing import StandardScaler"
   ]
  },
  {
   "cell_type": "code",
   "execution_count": 2,
   "id": "1c62cc78-74a7-4997-9aee-fc8d27a6e633",
   "metadata": {},
   "outputs": [],
   "source": [
    "data = pd.read_csv('Names.csv')\n",
    "\n",
    "namecol = data.iloc[:,1]\n",
    "countcol = data.iloc[:,4]\n",
    "total_list = {}\n",
    "for name, count in zip(namecol, countcol):\n",
    "    if name in total_list:\n",
    "        total_list[name] += count \n",
    "    else:\n",
    "        total_list[name] = count\n",
    "\n",
    "\n",
    "final_list = [[name, total] for name, total in total_list.items()]\n"
   ]
  },
  {
   "cell_type": "code",
   "execution_count": null,
   "id": "e465e28b-492e-4b3e-8cc0-4fa0526d9498",
   "metadata": {},
   "outputs": [],
   "source": [
    "final_list"
   ]
  },
  {
   "cell_type": "code",
   "execution_count": null,
   "id": "83e282c4-7ecb-40df-9c95-b7ccb5dc1099",
   "metadata": {},
   "outputs": [],
   "source": [
    "#randomaf normalized weights for char pair in the future\n",
    "final_listx = final_list\n",
    "for line in final_listx:\n",
    "    line[1]=line[1]/100000\n",
    "final_listx"
   ]
  },
  {
   "cell_type": "code",
   "execution_count": 5,
   "id": "7f175b60-bb19-4228-90fb-ca47d69347a5",
   "metadata": {},
   "outputs": [
    {
     "name": "stdout",
     "output_type": "stream",
     "text": [
      "{1: 'a', 2: 'b', 3: 'c', 4: 'd', 5: 'e', 6: 'f', 7: 'g', 8: 'h', 9: 'i', 10: 'j', 11: 'k', 12: 'l', 13: 'm', 14: 'n', 15: 'o', 16: 'p', 17: 'q', 18: 'r', 19: 's', 20: 't', 21: 'u', 22: 'v', 23: 'w', 24: 'x', 25: 'y', 26: 'z', 0: '.'}\n"
     ]
    }
   ],
   "source": [
    "# build the vocabulary of characters and mappings to/from integers\n",
    "chars = sorted(list(set(''.join(namecol).lower())))\n",
    "stoi = {s:i+1 for i,s in enumerate(chars)}\n",
    "stoi['.'] = 0\n",
    "itos = {i:s for s,i in stoi.items()}\n",
    "print(itos)"
   ]
  },
  {
   "cell_type": "code",
   "execution_count": 6,
   "id": "25e335b0-bce2-42f1-832c-cb645bd77778",
   "metadata": {},
   "outputs": [],
   "source": [
    "def build_dataset(words):  \n",
    "  X, Y = [], []\n",
    "  for w in words:\n",
    "\n",
    "    #print(w)\n",
    "    context = [0] * block_size\n",
    "    for ch in w + '.':\n",
    "      ix = stoi[ch]\n",
    "      X.append(context)\n",
    "      Y.append(ix)\n",
    "      #print(''.join(itos[i] for i in context), '--->', itos[ix])\n",
    "      context = context[1:] + [ix] # crop and append\n",
    "\n",
    "  X = torch.tensor(X)\n",
    "  Y = torch.tensor(Y)\n",
    "  print(X.shape, Y.shape)\n",
    "  return X, Y\n"
   ]
  },
  {
   "cell_type": "code",
   "execution_count": 120,
   "id": "64442361-f5cc-4773-ad64-8808c7b50585",
   "metadata": {},
   "outputs": [
    {
     "name": "stdout",
     "output_type": "stream",
     "text": [
      "torch.Size([565774, 3]) torch.Size([565774])\n",
      "torch.Size([70758, 3]) torch.Size([70758])\n",
      "torch.Size([70665, 3]) torch.Size([70665])\n"
     ]
    }
   ],
   "source": [
    "namecol1 = []\n",
    "block_size = 3\n",
    "for line in final_listx:\n",
    "    namecol1.append(line[0].lower())\n",
    "import random\n",
    "random.seed(42)\n",
    "random.shuffle(namecol1)\n",
    "n1 = int(0.8*len(namecol1))\n",
    "n2 = int(0.9*len(namecol1))\n",
    "\n",
    "Xtr, Ytr = build_dataset(namecol1[:n1])\n",
    "Xdev, Ydev = build_dataset(namecol1[n1:n2])\n",
    "Xte, Yte = build_dataset(namecol1[n2:])"
   ]
  },
  {
   "cell_type": "code",
   "execution_count": 45,
   "id": "95540fd0-54df-4bd5-8b03-7bdebc8173ee",
   "metadata": {},
   "outputs": [],
   "source": [
    "#first layer of nn\n",
    "W1 = torch.randn(6,444)\n",
    "b1= torch.randn(444)"
   ]
  },
  {
   "cell_type": "code",
   "execution_count": 46,
   "id": "2a1ac06a-56ed-4cf6-8e07-cd4f26a8e007",
   "metadata": {},
   "outputs": [
    {
     "data": {
      "text/plain": [
       "torch.Size([707197, 6])"
      ]
     },
     "execution_count": 46,
     "metadata": {},
     "output_type": "execute_result"
    }
   ],
   "source": [
    "emb.view(-1,6).shape"
   ]
  },
  {
   "cell_type": "code",
   "execution_count": 47,
   "id": "976187f8-ae3e-4ec7-98d7-0522b18705db",
   "metadata": {},
   "outputs": [],
   "source": [
    "h = torch.tanh(emb.view(-1,6) @ W1 + b1)"
   ]
  },
  {
   "cell_type": "code",
   "execution_count": 48,
   "id": "93384d45-437d-4cc3-a765-4b624c7d62c3",
   "metadata": {},
   "outputs": [
    {
     "data": {
      "text/plain": [
       "torch.Size([707197, 444])"
      ]
     },
     "execution_count": 48,
     "metadata": {},
     "output_type": "execute_result"
    }
   ],
   "source": [
    "h.shape"
   ]
  },
  {
   "cell_type": "code",
   "execution_count": 49,
   "id": "07075241-93f3-4ce8-a9f3-a1df90317e57",
   "metadata": {},
   "outputs": [],
   "source": [
    "#second layer of nn\n",
    "W2 = torch.randn(444,27)\n",
    "b2= torch.randn(27)"
   ]
  },
  {
   "cell_type": "code",
   "execution_count": 50,
   "id": "b0cf774b-1727-47aa-9d3f-7ddd953f8d25",
   "metadata": {},
   "outputs": [],
   "source": [
    "logits = h @ W2 + b2"
   ]
  },
  {
   "cell_type": "code",
   "execution_count": 51,
   "id": "6881723b-66aa-48f8-8d64-80e99cfe50b7",
   "metadata": {},
   "outputs": [
    {
     "data": {
      "text/plain": [
       "torch.Size([707197, 27])"
      ]
     },
     "execution_count": 51,
     "metadata": {},
     "output_type": "execute_result"
    }
   ],
   "source": [
    "logits.shape"
   ]
  },
  {
   "cell_type": "code",
   "execution_count": 65,
   "id": "c8df70db-d4b7-4a40-944f-b16722ade162",
   "metadata": {},
   "outputs": [
    {
     "data": {
      "text/plain": [
       "tensor(34.5041)"
      ]
     },
     "execution_count": 65,
     "metadata": {},
     "output_type": "execute_result"
    }
   ],
   "source": [
    "loss = -prob[torch.arange(prob.shape[0]),Y].log().mean()\n",
    "loss"
   ]
  },
  {
   "cell_type": "code",
   "execution_count": 64,
   "id": "9c69b3dd-532c-49bb-8d8f-892787e7d2d3",
   "metadata": {},
   "outputs": [
    {
     "data": {
      "text/plain": [
       "tensor(34.5041)"
      ]
     },
     "execution_count": 64,
     "metadata": {},
     "output_type": "execute_result"
    }
   ],
   "source": [
    "F.cross_entropy(logits,Y)"
   ]
  },
  {
   "cell_type": "code",
   "execution_count": 155,
   "id": "f9e04bad-2434-42c7-a80e-2e5d90ee66dd",
   "metadata": {},
   "outputs": [],
   "source": [
    "#cleaner look\n",
    "#first layer of nn\n",
    "W1 = torch.randn(30,444)\n",
    "b1= torch.randn(444)\n",
    "#second layer of nn\n",
    "W2 = torch.randn(444,27)\n",
    "b2= torch.randn(27)\n",
    "C = torch.randn((27,10))\n",
    "params = [C, W1, b1, W2, b2]\n"
   ]
  },
  {
   "cell_type": "code",
   "execution_count": 156,
   "id": "54e28c64-790f-45c2-9ea7-b72cea195247",
   "metadata": {},
   "outputs": [],
   "source": [
    "for p in params:\n",
    "    p.requires_grad = True"
   ]
  },
  {
   "cell_type": "code",
   "execution_count": 157,
   "id": "4fd4a702-25af-4087-b7e0-369964ceacb2",
   "metadata": {},
   "outputs": [],
   "source": [
    "lre = torch.linspace(-3,0,1000)\n",
    "lrs = 10**lre"
   ]
  },
  {
   "cell_type": "code",
   "execution_count": null,
   "id": "069da811-eeac-4205-b3f1-bb83b296f4fe",
   "metadata": {},
   "outputs": [],
   "source": [
    "#forwardpass with minibatch to use full dataset\n",
    "epoch = 25000\n",
    "alpha = 0.05\n",
    "lri = []\n",
    "lossi = []\n",
    "for ep in range(epoch):\n",
    "    #minibatch\n",
    "    ix = torch.randint(0,Xtr.shape[0],(642,))\n",
    "    \n",
    "    #forwardpass (with full dataset)\n",
    "    emb = C[Xtr[ix]] #([707197, 3, 2])\n",
    "    h = torch.tanh(emb.view(-1,30) @ W1 + b1) #([707197, 444])\n",
    "    logits = h @ W2 + b2  #([707197, 27])\n",
    "    loss = F.cross_entropy(logits,Ytr[ix])\n",
    "    #backwardpass\n",
    "    for p in params:\n",
    "        p.grad = None\n",
    "    loss.backward()\n",
    "    #update learning rate\n",
    "   # alpha = lrs[ep]\n",
    "    for p in params:\n",
    "        p.data -= alpha * p.grad\n",
    "    #tracking loss and learning rate\n",
    "  #  lri.append(lrs[ep])\n",
    "   # lossi.append(loss.item())\n",
    "print(loss.item())\n"
   ]
  },
  {
   "cell_type": "code",
   "execution_count": null,
   "id": "5648bb18-df2a-4465-95d7-f91d6b1d7167",
   "metadata": {},
   "outputs": [],
   "source": [
    "#full model loss to compare with minibatch\n",
    "emb = C[Xtr] #([707197, 3, 2])\n",
    "h = torch.tanh(emb.view(-1,30) @ W1 + b1) #([707197, 444])\n",
    "logits = h @ W2 + b2  #([707197, 27])\n",
    "loss = F.cross_entropy(logits,Ytr)\n",
    "loss"
   ]
  },
  {
   "cell_type": "code",
   "execution_count": null,
   "id": "92431955-0efd-4108-9413-83e6f68fe5ba",
   "metadata": {},
   "outputs": [],
   "source": [
    "#full model loss to compare with minibatch valset\n",
    "emb = C[Xdev] #([707197, 3, 2])\n",
    "h = torch.tanh(emb.view(-1,30) @ W1 + b1) #([707197, 444])\n",
    "logits = h @ W2 + b2  #([707197, 27])\n",
    "loss = F.cross_entropy(logits,Ydev)\n",
    "loss"
   ]
  },
  {
   "cell_type": "code",
   "execution_count": 112,
   "id": "ae2eee93-eaea-44cd-b87f-a9f26a692538",
   "metadata": {},
   "outputs": [
    {
     "data": {
      "text/plain": [
       "[<matplotlib.lines.Line2D at 0x2c1e7b1d090>]"
      ]
     },
     "execution_count": 112,
     "metadata": {},
     "output_type": "execute_result"
    },
    {
     "data": {
      "image/png": "[encoded data removed]",
      "text/plain": [
       "<Figure size 640x480 with 1 Axes>"
      ]
     },
     "metadata": {},
     "output_type": "display_data"
    }
   ],
   "source": [
    "plt.plot(lri,lossi)"
   ]
  },
  {
   "cell_type": "code",
   "execution_count": null,
   "id": "83af2d6a-d49f-4dfa-bafd-4578f3186c4f",
   "metadata": {},
   "outputs": [],
   "source": [
    "# sample from the model\n",
    "\n",
    "for _ in range(20):\n",
    "    \n",
    "    out = []\n",
    "    context = [0] * block_size # initialize with all ...\n",
    "    while True:\n",
    "      emb = C[torch.tensor([context])] # (1,block_size,d)\n",
    "      h = torch.tanh(emb.view(1, -1) @ W1 + b1)\n",
    "      logits = h @ W2 + b2\n",
    "      probs = F.softmax(logits, dim=1)\n",
    "      ix = torch.multinomial(probs, num_samples=1, generator=g).item()\n",
    "      context = context[1:] + [ix]\n",
    "      out.append(ix)\n",
    "      if ix == 0:\n",
    "        break\n",
    "    \n",
    "    print(''.join(itos[i] for i in out))"
   ]
  },
  {
   "cell_type": "code",
   "execution_count": 149,
   "id": "2e5fd121-0f00-4b0e-9225-29d85343d71f",
   "metadata": {},
   "outputs": [
    {
     "data": {
      "text/plain": [
       "tensor([0.2667, 0.0315, 0.0020, 0.0034, 0.0128, 0.1708, 0.0038, 0.0046, 0.0266,\n",
       "        0.1888, 0.0055, 0.0049, 0.0612, 0.0107, 0.0200, 0.0512, 0.0010, 0.0006,\n",
       "        0.0194, 0.0325, 0.0286, 0.0110, 0.0052, 0.0022, 0.0004, 0.0314, 0.0032],\n",
       "       grad_fn=<SelectBackward0>)"
      ]
     },
     "execution_count": 149,
     "metadata": {},
     "output_type": "execute_result"
    }
   ],
   "source": [
    "probs[0]"
   ]
  },
  {
   "cell_type": "code",
   "execution_count": 150,
   "id": "91e62598-5a71-49f6-b59b-3b2cd4d287b3",
   "metadata": {},
   "outputs": [
    {
     "data": {
      "text/plain": [
       "tensor([[0.2667, 0.0315, 0.0020, 0.0034, 0.0128, 0.1708, 0.0038, 0.0046, 0.0266,\n",
       "         0.1888, 0.0055, 0.0049, 0.0612, 0.0107, 0.0200, 0.0512, 0.0010, 0.0006,\n",
       "         0.0194, 0.0325, 0.0286, 0.0110, 0.0052, 0.0022, 0.0004, 0.0314, 0.0032]],\n",
       "       grad_fn=<SoftmaxBackward0>)"
      ]
     },
     "execution_count": 150,
     "metadata": {},
     "output_type": "execute_result"
    }
   ],
   "source": [
    "probs"
   ]
  },
  {
   "cell_type": "code",
   "execution_count": null,
   "id": "6535a951-ea5c-4113-9954-20d900a09825",
   "metadata": {},
   "outputs": [],
   "source": []
  }
 ],
 "metadata": {
  "kernelspec": {
   "display_name": "Python 3 (ipykernel)",
   "language": "python",
   "name": "python3"
  },
  "language_info": {
   "codemirror_mode": {
    "name": "ipython",
    "version": 3
   },
   "file_extension": ".py",
   "mimetype": "text/x-python",
   "name": "python",
   "nbconvert_exporter": "python",
   "pygments_lexer": "ipython3",
   "version": "3.13.2"
  }
 },
 "nbformat": 4,
 "nbformat_minor": 5
}
