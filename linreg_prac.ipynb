{
 "cells": [
  {
   "cell_type": "code",
   "execution_count": 2,
   "id": "43f04617-ab1f-4d39-8ba5-62f9642ac04c",
   "metadata": {},
   "outputs": [],
   "source": [
    "import sys"
   ]
  },
  {
   "cell_type": "code",
   "execution_count": 1,
   "id": "ab0f5866-7de3-476b-b3de-b6f270857299",
   "metadata": {},
   "outputs": [],
   "source": [
    "import torch\n",
    "torch.manual_seed(1)\n",
    "import numpy as np\n",
    "import csv\n",
    "import matplotlib\n",
    "from sklearn.model_selection import train_test_split\n",
    "from sklearn.preprocessing import StandardScaler"
   ]
  },
  {
   "cell_type": "code",
   "execution_count": 2,
   "id": "bd4eec49-f7fd-425a-9b72-1ce7ed816433",
   "metadata": {},
   "outputs": [],
   "source": [
    "with open('calories.csv', mode='r', encoding='utf-8') as file:\n",
    "    data = csv.reader(file)\n",
    "    next(data)\n",
    "    X = []\n",
    "    #userid, male, female, age, height,weight, duration, heartrate, bodytemp, colories\n",
    "    for line in data:\n",
    "        gender = line[1]\n",
    "        values = line[2:9]\n",
    "        if gender == 'male':\n",
    "            hot_encoding = [0, 1]\n",
    "        else:\n",
    "            hot_encoding = [1, 0]\n",
    "        lineValues = hot_encoding + [float(a) for a in values]\n",
    "        X.append(lineValues)\n",
    "        \n",
    "dataset = torch.tensor(X)"
   ]
  },
  {
   "cell_type": "code",
   "execution_count": 3,
   "id": "08130cde-dc46-4f20-b723-7a82466a9f06",
   "metadata": {},
   "outputs": [
    {
     "data": {
      "text/plain": [
       "tensor([[  0.0000,   1.0000,  68.0000,  ..., 105.0000,  40.8000, 231.0000],\n",
       "        [  1.0000,   0.0000,  20.0000,  ...,  94.0000,  40.3000,  66.0000],\n",
       "        [  0.0000,   1.0000,  69.0000,  ...,  88.0000,  38.7000,  26.0000],\n",
       "        ...,\n",
       "        [  1.0000,   0.0000,  43.0000,  ...,  90.0000,  40.1000,  75.0000],\n",
       "        [  0.0000,   1.0000,  78.0000,  ...,  84.0000,  38.3000,  11.0000],\n",
       "        [  0.0000,   1.0000,  63.0000,  ...,  92.0000,  40.5000,  98.0000]])"
      ]
     },
     "execution_count": 3,
     "metadata": {},
     "output_type": "execute_result"
    }
   ],
   "source": [
    "dataset"
   ]
  },
  {
   "cell_type": "code",
   "execution_count": 33,
   "id": "1e017f46-410d-4b62-90d6-b2684b44ea77",
   "metadata": {},
   "outputs": [
    {
     "data": {
      "text/plain": [
       "15000"
      ]
     },
     "execution_count": 33,
     "metadata": {},
     "output_type": "execute_result"
    }
   ],
   "source": [
    "len(dataset)"
   ]
  },
  {
   "cell_type": "code",
   "execution_count": 34,
   "id": "12be16da-0b3d-4459-8ea5-b55e759a711e",
   "metadata": {},
   "outputs": [
    {
     "data": {
      "text/plain": [
       "torch.Size([15000, 9])"
      ]
     },
     "execution_count": 34,
     "metadata": {},
     "output_type": "execute_result"
    }
   ],
   "source": [
    "dataset.shape"
   ]
  },
  {
   "cell_type": "code",
   "execution_count": 4,
   "id": "f24bfcfd-8f45-4258-b3a9-b636130dc443",
   "metadata": {},
   "outputs": [],
   "source": [
    "X = dataset[:, :-1]\n",
    "Y = dataset[:, -1].reshape(-1, 1)"
   ]
  },
  {
   "cell_type": "code",
   "execution_count": 5,
   "id": "9ed07c05-06a2-4b06-b595-9f9f49889f33",
   "metadata": {},
   "outputs": [
    {
     "data": {
      "text/plain": [
       "torch.Size([15000, 8])"
      ]
     },
     "execution_count": 5,
     "metadata": {},
     "output_type": "execute_result"
    }
   ],
   "source": [
    "X.shape\n"
   ]
  },
  {
   "cell_type": "code",
   "execution_count": 13,
   "id": "26c92baa-073e-45aa-bc53-e09a523e9b99",
   "metadata": {},
   "outputs": [
    {
     "data": {
      "text/plain": [
       "torch.Size([15000, 1])"
      ]
     },
     "execution_count": 13,
     "metadata": {},
     "output_type": "execute_result"
    }
   ],
   "source": [
    "Y.shape"
   ]
  },
  {
   "cell_type": "code",
   "execution_count": 6,
   "id": "33b9c202-04d0-4177-a85c-0085a8df09be",
   "metadata": {},
   "outputs": [],
   "source": [
    "X_train, X_temp, Y_train, Y_temp = train_test_split(X, Y, test_size=0.4, random_state=42)\n",
    "X_val, X_test, Y_val, Y_test = train_test_split(X_temp, Y_temp, test_size=0.5, random_state=42)"
   ]
  },
  {
   "cell_type": "code",
   "execution_count": 17,
   "id": "3a3aa68c-0be5-4ca0-b0e9-7026849c0098",
   "metadata": {},
   "outputs": [
    {
     "data": {
      "text/plain": [
       "torch.Size([9000, 8])"
      ]
     },
     "execution_count": 17,
     "metadata": {},
     "output_type": "execute_result"
    }
   ],
   "source": [
    "X_train.shape"
   ]
  },
  {
   "cell_type": "code",
   "execution_count": 19,
   "id": "690b00a2-1303-4f8a-b67f-90dcf335e284",
   "metadata": {},
   "outputs": [
    {
     "data": {
      "text/plain": [
       "torch.Size([3000, 8])"
      ]
     },
     "execution_count": 19,
     "metadata": {},
     "output_type": "execute_result"
    }
   ],
   "source": [
    "X_val.shape"
   ]
  },
  {
   "cell_type": "code",
   "execution_count": 21,
   "id": "de1685f6-270b-4c85-8063-4868520450d6",
   "metadata": {},
   "outputs": [
    {
     "data": {
      "text/plain": [
       "torch.Size([3000, 1])"
      ]
     },
     "execution_count": 21,
     "metadata": {},
     "output_type": "execute_result"
    }
   ],
   "source": [
    "Y_test.shape"
   ]
  },
  {
   "cell_type": "code",
   "execution_count": 7,
   "id": "6bb3ddd2-03ff-4b16-aae2-8c359adede79",
   "metadata": {},
   "outputs": [],
   "source": [
    "W = torch.randn(9000,8)"
   ]
  },
  {
   "cell_type": "code",
   "execution_count": 8,
   "id": "cef6c261-4875-4c7a-b6d7-d99960707eac",
   "metadata": {},
   "outputs": [
    {
     "name": "stdout",
     "output_type": "stream",
     "text": [
      "tensor([[-1.5256, -0.7502, -0.6540,  ..., -0.6092, -0.9798, -1.6091],\n",
      "        [-0.7121,  0.3037, -0.7773,  ...,  1.6871,  0.2284,  0.4676],\n",
      "        [-0.6970, -1.1608,  0.6995,  ...,  0.2444, -0.6629,  0.8073],\n",
      "        ...,\n",
      "        [ 0.5711,  1.4877, -1.2802,  ...,  0.3878, -1.4014, -0.2838],\n",
      "        [-0.0591,  2.2088, -1.4102,  ...,  0.0139,  0.8020,  1.8881],\n",
      "        [ 0.2883,  0.0562,  1.3478,  ..., -0.9728,  0.4575,  0.7477]])\n"
     ]
    }
   ],
   "source": [
    "print(W)"
   ]
  },
  {
   "cell_type": "code",
   "execution_count": 9,
   "id": "d691ee5b-7daa-4621-ae36-93ddc6308f98",
   "metadata": {},
   "outputs": [
    {
     "data": {
      "text/html": [
       "<style>#sk-container-id-1 {\n",
       "  /* Definition of color scheme common for light and dark mode */\n",
       "  --sklearn-color-text: #000;\n",
       "  --sklearn-color-text-muted: #666;\n",
       "  --sklearn-color-line: gray;\n",
       "  /* Definition of color scheme for unfitted estimators */\n",
       "  --sklearn-color-unfitted-level-0: #fff5e6;\n",
       "  --sklearn-color-unfitted-level-1: #f6e4d2;\n",
       "  --sklearn-color-unfitted-level-2: #ffe0b3;\n",
       "  --sklearn-color-unfitted-level-3: chocolate;\n",
       "  /* Definition of color scheme for fitted estimators */\n",
       "  --sklearn-color-fitted-level-0: #f0f8ff;\n",
       "  --sklearn-color-fitted-level-1: #d4ebff;\n",
       "  --sklearn-color-fitted-level-2: #b3dbfd;\n",
       "  --sklearn-color-fitted-level-3: cornflowerblue;\n",
       "\n",
       "  /* Specific color for light theme */\n",
       "  --sklearn-color-text-on-default-background: var(--sg-text-color, var(--theme-code-foreground, var(--jp-content-font-color1, black)));\n",
       "  --sklearn-color-background: var(--sg-background-color, var(--theme-background, var(--jp-layout-color0, white)));\n",
       "  --sklearn-color-border-box: var(--sg-text-color, var(--theme-code-foreground, var(--jp-content-font-color1, black)));\n",
       "  --sklearn-color-icon: #696969;\n",
       "\n",
       "  @media (prefers-color-scheme: dark) {\n",
       "    /* Redefinition of color scheme for dark theme */\n",
       "    --sklearn-color-text-on-default-background: var(--sg-text-color, var(--theme-code-foreground, var(--jp-content-font-color1, white)));\n",
       "    --sklearn-color-background: var(--sg-background-color, var(--theme-background, var(--jp-layout-color0, #111)));\n",
       "    --sklearn-color-border-box: var(--sg-text-color, var(--theme-code-foreground, var(--jp-content-font-color1, white)));\n",
       "    --sklearn-color-icon: #878787;\n",
       "  }\n",
       "}\n",
       "\n",
       "#sk-container-id-1 {\n",
       "  color: var(--sklearn-color-text);\n",
       "}\n",
       "\n",
       "#sk-container-id-1 pre {\n",
       "  padding: 0;\n",
       "}\n",
       "\n",
       "#sk-container-id-1 input.sk-hidden--visually {\n",
       "  border: 0;\n",
       "  clip: rect(1px 1px 1px 1px);\n",
       "  clip: rect(1px, 1px, 1px, 1px);\n",
       "  height: 1px;\n",
       "  margin: -1px;\n",
       "  overflow: hidden;\n",
       "  padding: 0;\n",
       "  position: absolute;\n",
       "  width: 1px;\n",
       "}\n",
       "\n",
       "#sk-container-id-1 div.sk-dashed-wrapped {\n",
       "  border: 1px dashed var(--sklearn-color-line);\n",
       "  margin: 0 0.4em 0.5em 0.4em;\n",
       "  box-sizing: border-box;\n",
       "  padding-bottom: 0.4em;\n",
       "  background-color: var(--sklearn-color-background);\n",
       "}\n",
       "\n",
       "#sk-container-id-1 div.sk-container {\n",
       "  /* jupyter's `normalize.less` sets `[hidden] { display: none; }`\n",
       "     but bootstrap.min.css set `[hidden] { display: none !important; }`\n",
       "     so we also need the `!important` here to be able to override the\n",
       "     default hidden behavior on the sphinx rendered scikit-learn.org.\n",
       "     See: https://github.com/scikit-learn/scikit-learn/issues/21755 */\n",
       "  display: inline-block !important;\n",
       "  position: relative;\n",
       "}\n",
       "\n",
       "#sk-container-id-1 div.sk-text-repr-fallback {\n",
       "  display: none;\n",
       "}\n",
       "\n",
       "div.sk-parallel-item,\n",
       "div.sk-serial,\n",
       "div.sk-item {\n",
       "  /* draw centered vertical line to link estimators */\n",
       "  background-image: linear-gradient(var(--sklearn-color-text-on-default-background), var(--sklearn-color-text-on-default-background));\n",
       "  background-size: 2px 100%;\n",
       "  background-repeat: no-repeat;\n",
       "  background-position: center center;\n",
       "}\n",
       "\n",
       "/* Parallel-specific style estimator block */\n",
       "\n",
       "#sk-container-id-1 div.sk-parallel-item::after {\n",
       "  content: \"\";\n",
       "  width: 100%;\n",
       "  border-bottom: 2px solid var(--sklearn-color-text-on-default-background);\n",
       "  flex-grow: 1;\n",
       "}\n",
       "\n",
       "#sk-container-id-1 div.sk-parallel {\n",
       "  display: flex;\n",
       "  align-items: stretch;\n",
       "  justify-content: center;\n",
       "  background-color: var(--sklearn-color-background);\n",
       "  position: relative;\n",
       "}\n",
       "\n",
       "#sk-container-id-1 div.sk-parallel-item {\n",
       "  display: flex;\n",
       "  flex-direction: column;\n",
       "}\n",
       "\n",
       "#sk-container-id-1 div.sk-parallel-item:first-child::after {\n",
       "  align-self: flex-end;\n",
       "  width: 50%;\n",
       "}\n",
       "\n",
       "#sk-container-id-1 div.sk-parallel-item:last-child::after {\n",
       "  align-self: flex-start;\n",
       "  width: 50%;\n",
       "}\n",
       "\n",
       "#sk-container-id-1 div.sk-parallel-item:only-child::after {\n",
       "  width: 0;\n",
       "}\n",
       "\n",
       "/* Serial-specific style estimator block */\n",
       "\n",
       "#sk-container-id-1 div.sk-serial {\n",
       "  display: flex;\n",
       "  flex-direction: column;\n",
       "  align-items: center;\n",
       "  background-color: var(--sklearn-color-background);\n",
       "  padding-right: 1em;\n",
       "  padding-left: 1em;\n",
       "}\n",
       "\n",
       "\n",
       "/* Toggleable style: style used for estimator/Pipeline/ColumnTransformer box that is\n",
       "clickable and can be expanded/collapsed.\n",
       "- Pipeline and ColumnTransformer use this feature and define the default style\n",
       "- Estimators will overwrite some part of the style using the `sk-estimator` class\n",
       "*/\n",
       "\n",
       "/* Pipeline and ColumnTransformer style (default) */\n",
       "\n",
       "#sk-container-id-1 div.sk-toggleable {\n",
       "  /* Default theme specific background. It is overwritten whether we have a\n",
       "  specific estimator or a Pipeline/ColumnTransformer */\n",
       "  background-color: var(--sklearn-color-background);\n",
       "}\n",
       "\n",
       "/* Toggleable label */\n",
       "#sk-container-id-1 label.sk-toggleable__label {\n",
       "  cursor: pointer;\n",
       "  display: flex;\n",
       "  width: 100%;\n",
       "  margin-bottom: 0;\n",
       "  padding: 0.5em;\n",
       "  box-sizing: border-box;\n",
       "  text-align: center;\n",
       "  align-items: start;\n",
       "  justify-content: space-between;\n",
       "  gap: 0.5em;\n",
       "}\n",
       "\n",
       "#sk-container-id-1 label.sk-toggleable__label .caption {\n",
       "  font-size: 0.6rem;\n",
       "  font-weight: lighter;\n",
       "  color: var(--sklearn-color-text-muted);\n",
       "}\n",
       "\n",
       "#sk-container-id-1 label.sk-toggleable__label-arrow:before {\n",
       "  /* Arrow on the left of the label */\n",
       "  content: \"▸\";\n",
       "  float: left;\n",
       "  margin-right: 0.25em;\n",
       "  color: var(--sklearn-color-icon);\n",
       "}\n",
       "\n",
       "#sk-container-id-1 label.sk-toggleable__label-arrow:hover:before {\n",
       "  color: var(--sklearn-color-text);\n",
       "}\n",
       "\n",
       "/* Toggleable content - dropdown */\n",
       "\n",
       "#sk-container-id-1 div.sk-toggleable__content {\n",
       "  max-height: 0;\n",
       "  max-width: 0;\n",
       "  overflow: hidden;\n",
       "  text-align: left;\n",
       "  /* unfitted */\n",
       "  background-color: var(--sklearn-color-unfitted-level-0);\n",
       "}\n",
       "\n",
       "#sk-container-id-1 div.sk-toggleable__content.fitted {\n",
       "  /* fitted */\n",
       "  background-color: var(--sklearn-color-fitted-level-0);\n",
       "}\n",
       "\n",
       "#sk-container-id-1 div.sk-toggleable__content pre {\n",
       "  margin: 0.2em;\n",
       "  border-radius: 0.25em;\n",
       "  color: var(--sklearn-color-text);\n",
       "  /* unfitted */\n",
       "  background-color: var(--sklearn-color-unfitted-level-0);\n",
       "}\n",
       "\n",
       "#sk-container-id-1 div.sk-toggleable__content.fitted pre {\n",
       "  /* unfitted */\n",
       "  background-color: var(--sklearn-color-fitted-level-0);\n",
       "}\n",
       "\n",
       "#sk-container-id-1 input.sk-toggleable__control:checked~div.sk-toggleable__content {\n",
       "  /* Expand drop-down */\n",
       "  max-height: 200px;\n",
       "  max-width: 100%;\n",
       "  overflow: auto;\n",
       "}\n",
       "\n",
       "#sk-container-id-1 input.sk-toggleable__control:checked~label.sk-toggleable__label-arrow:before {\n",
       "  content: \"▾\";\n",
       "}\n",
       "\n",
       "/* Pipeline/ColumnTransformer-specific style */\n",
       "\n",
       "#sk-container-id-1 div.sk-label input.sk-toggleable__control:checked~label.sk-toggleable__label {\n",
       "  color: var(--sklearn-color-text);\n",
       "  background-color: var(--sklearn-color-unfitted-level-2);\n",
       "}\n",
       "\n",
       "#sk-container-id-1 div.sk-label.fitted input.sk-toggleable__control:checked~label.sk-toggleable__label {\n",
       "  background-color: var(--sklearn-color-fitted-level-2);\n",
       "}\n",
       "\n",
       "/* Estimator-specific style */\n",
       "\n",
       "/* Colorize estimator box */\n",
       "#sk-container-id-1 div.sk-estimator input.sk-toggleable__control:checked~label.sk-toggleable__label {\n",
       "  /* unfitted */\n",
       "  background-color: var(--sklearn-color-unfitted-level-2);\n",
       "}\n",
       "\n",
       "#sk-container-id-1 div.sk-estimator.fitted input.sk-toggleable__control:checked~label.sk-toggleable__label {\n",
       "  /* fitted */\n",
       "  background-color: var(--sklearn-color-fitted-level-2);\n",
       "}\n",
       "\n",
       "#sk-container-id-1 div.sk-label label.sk-toggleable__label,\n",
       "#sk-container-id-1 div.sk-label label {\n",
       "  /* The background is the default theme color */\n",
       "  color: var(--sklearn-color-text-on-default-background);\n",
       "}\n",
       "\n",
       "/* On hover, darken the color of the background */\n",
       "#sk-container-id-1 div.sk-label:hover label.sk-toggleable__label {\n",
       "  color: var(--sklearn-color-text);\n",
       "  background-color: var(--sklearn-color-unfitted-level-2);\n",
       "}\n",
       "\n",
       "/* Label box, darken color on hover, fitted */\n",
       "#sk-container-id-1 div.sk-label.fitted:hover label.sk-toggleable__label.fitted {\n",
       "  color: var(--sklearn-color-text);\n",
       "  background-color: var(--sklearn-color-fitted-level-2);\n",
       "}\n",
       "\n",
       "/* Estimator label */\n",
       "\n",
       "#sk-container-id-1 div.sk-label label {\n",
       "  font-family: monospace;\n",
       "  font-weight: bold;\n",
       "  display: inline-block;\n",
       "  line-height: 1.2em;\n",
       "}\n",
       "\n",
       "#sk-container-id-1 div.sk-label-container {\n",
       "  text-align: center;\n",
       "}\n",
       "\n",
       "/* Estimator-specific */\n",
       "#sk-container-id-1 div.sk-estimator {\n",
       "  font-family: monospace;\n",
       "  border: 1px dotted var(--sklearn-color-border-box);\n",
       "  border-radius: 0.25em;\n",
       "  box-sizing: border-box;\n",
       "  margin-bottom: 0.5em;\n",
       "  /* unfitted */\n",
       "  background-color: var(--sklearn-color-unfitted-level-0);\n",
       "}\n",
       "\n",
       "#sk-container-id-1 div.sk-estimator.fitted {\n",
       "  /* fitted */\n",
       "  background-color: var(--sklearn-color-fitted-level-0);\n",
       "}\n",
       "\n",
       "/* on hover */\n",
       "#sk-container-id-1 div.sk-estimator:hover {\n",
       "  /* unfitted */\n",
       "  background-color: var(--sklearn-color-unfitted-level-2);\n",
       "}\n",
       "\n",
       "#sk-container-id-1 div.sk-estimator.fitted:hover {\n",
       "  /* fitted */\n",
       "  background-color: var(--sklearn-color-fitted-level-2);\n",
       "}\n",
       "\n",
       "/* Specification for estimator info (e.g. \"i\" and \"?\") */\n",
       "\n",
       "/* Common style for \"i\" and \"?\" */\n",
       "\n",
       ".sk-estimator-doc-link,\n",
       "a:link.sk-estimator-doc-link,\n",
       "a:visited.sk-estimator-doc-link {\n",
       "  float: right;\n",
       "  font-size: smaller;\n",
       "  line-height: 1em;\n",
       "  font-family: monospace;\n",
       "  background-color: var(--sklearn-color-background);\n",
       "  border-radius: 1em;\n",
       "  height: 1em;\n",
       "  width: 1em;\n",
       "  text-decoration: none !important;\n",
       "  margin-left: 0.5em;\n",
       "  text-align: center;\n",
       "  /* unfitted */\n",
       "  border: var(--sklearn-color-unfitted-level-1) 1pt solid;\n",
       "  color: var(--sklearn-color-unfitted-level-1);\n",
       "}\n",
       "\n",
       ".sk-estimator-doc-link.fitted,\n",
       "a:link.sk-estimator-doc-link.fitted,\n",
       "a:visited.sk-estimator-doc-link.fitted {\n",
       "  /* fitted */\n",
       "  border: var(--sklearn-color-fitted-level-1) 1pt solid;\n",
       "  color: var(--sklearn-color-fitted-level-1);\n",
       "}\n",
       "\n",
       "/* On hover */\n",
       "div.sk-estimator:hover .sk-estimator-doc-link:hover,\n",
       ".sk-estimator-doc-link:hover,\n",
       "div.sk-label-container:hover .sk-estimator-doc-link:hover,\n",
       ".sk-estimator-doc-link:hover {\n",
       "  /* unfitted */\n",
       "  background-color: var(--sklearn-color-unfitted-level-3);\n",
       "  color: var(--sklearn-color-background);\n",
       "  text-decoration: none;\n",
       "}\n",
       "\n",
       "div.sk-estimator.fitted:hover .sk-estimator-doc-link.fitted:hover,\n",
       ".sk-estimator-doc-link.fitted:hover,\n",
       "div.sk-label-container:hover .sk-estimator-doc-link.fitted:hover,\n",
       ".sk-estimator-doc-link.fitted:hover {\n",
       "  /* fitted */\n",
       "  background-color: var(--sklearn-color-fitted-level-3);\n",
       "  color: var(--sklearn-color-background);\n",
       "  text-decoration: none;\n",
       "}\n",
       "\n",
       "/* Span, style for the box shown on hovering the info icon */\n",
       ".sk-estimator-doc-link span {\n",
       "  display: none;\n",
       "  z-index: 9999;\n",
       "  position: relative;\n",
       "  font-weight: normal;\n",
       "  right: .2ex;\n",
       "  padding: .5ex;\n",
       "  margin: .5ex;\n",
       "  width: min-content;\n",
       "  min-width: 20ex;\n",
       "  max-width: 50ex;\n",
       "  color: var(--sklearn-color-text);\n",
       "  box-shadow: 2pt 2pt 4pt #999;\n",
       "  /* unfitted */\n",
       "  background: var(--sklearn-color-unfitted-level-0);\n",
       "  border: .5pt solid var(--sklearn-color-unfitted-level-3);\n",
       "}\n",
       "\n",
       ".sk-estimator-doc-link.fitted span {\n",
       "  /* fitted */\n",
       "  background: var(--sklearn-color-fitted-level-0);\n",
       "  border: var(--sklearn-color-fitted-level-3);\n",
       "}\n",
       "\n",
       ".sk-estimator-doc-link:hover span {\n",
       "  display: block;\n",
       "}\n",
       "\n",
       "/* \"?\"-specific style due to the `<a>` HTML tag */\n",
       "\n",
       "#sk-container-id-1 a.estimator_doc_link {\n",
       "  float: right;\n",
       "  font-size: 1rem;\n",
       "  line-height: 1em;\n",
       "  font-family: monospace;\n",
       "  background-color: var(--sklearn-color-background);\n",
       "  border-radius: 1rem;\n",
       "  height: 1rem;\n",
       "  width: 1rem;\n",
       "  text-decoration: none;\n",
       "  /* unfitted */\n",
       "  color: var(--sklearn-color-unfitted-level-1);\n",
       "  border: var(--sklearn-color-unfitted-level-1) 1pt solid;\n",
       "}\n",
       "\n",
       "#sk-container-id-1 a.estimator_doc_link.fitted {\n",
       "  /* fitted */\n",
       "  border: var(--sklearn-color-fitted-level-1) 1pt solid;\n",
       "  color: var(--sklearn-color-fitted-level-1);\n",
       "}\n",
       "\n",
       "/* On hover */\n",
       "#sk-container-id-1 a.estimator_doc_link:hover {\n",
       "  /* unfitted */\n",
       "  background-color: var(--sklearn-color-unfitted-level-3);\n",
       "  color: var(--sklearn-color-background);\n",
       "  text-decoration: none;\n",
       "}\n",
       "\n",
       "#sk-container-id-1 a.estimator_doc_link.fitted:hover {\n",
       "  /* fitted */\n",
       "  background-color: var(--sklearn-color-fitted-level-3);\n",
       "}\n",
       "</style><div id=\"sk-container-id-1\" class=\"sk-top-container\"><div class=\"sk-text-repr-fallback\"><pre>StandardScaler()</pre><b>In a Jupyter environment, please rerun this cell to show the HTML representation or trust the notebook. <br />On GitHub, the HTML representation is unable to render, please try loading this page with nbviewer.org.</b></div><div class=\"sk-container\" hidden><div class=\"sk-item\"><div class=\"sk-estimator fitted sk-toggleable\"><input class=\"sk-toggleable__control sk-hidden--visually\" id=\"sk-estimator-id-1\" type=\"checkbox\" checked><label for=\"sk-estimator-id-1\" class=\"sk-toggleable__label fitted sk-toggleable__label-arrow\"><div><div>StandardScaler</div></div><div><a class=\"sk-estimator-doc-link fitted\" rel=\"noreferrer\" target=\"_blank\" href=\"https://scikit-learn.org/1.6/modules/generated/sklearn.preprocessing.StandardScaler.html\">?<span>Documentation for StandardScaler</span></a><span class=\"sk-estimator-doc-link fitted\">i<span>Fitted</span></span></div></label><div class=\"sk-toggleable__content fitted\"><pre>StandardScaler()</pre></div> </div></div></div></div>"
      ],
      "text/plain": [
       "StandardScaler()"
      ]
     },
     "execution_count": 9,
     "metadata": {},
     "output_type": "execute_result"
    }
   ],
   "source": [
    "scaler = StandardScaler()\n",
    "scaler.fit(X_train)\n",
    "scaler2 = StandardScaler()\n",
    "scaler2.fit(Y_train)"
   ]
  },
  {
   "cell_type": "code",
   "execution_count": 10,
   "id": "34f7fa99-6c60-4fd0-9084-3144aac3963c",
   "metadata": {},
   "outputs": [],
   "source": [
    "X_train_norm = scaler.transform(X_train)\n",
    "X_val_norm = scaler.transform(X_val)\n",
    "X_test_norm = scaler.transform(X_test)\n",
    "X_train_norm = torch.from_numpy(X_train_norm)\n",
    "X_val_norm = torch.from_numpy(X_val_norm)\n",
    "X_test_norm = torch.from_numpy(X_test_norm)\n",
    "Y_train_norm = scaler2.transform(Y_train)\n",
    "Y_val_norm = scaler2.transform(Y_val)\n",
    "Y_test_norm = scaler2.transform(Y_test)\n",
    "Y_train_norm = torch.from_numpy(Y_train_norm)\n",
    "Y_val_norm = torch.from_numpy(Y_val_norm)\n",
    "Y_test_norm = torch.from_numpy(Y_test_norm)"
   ]
  },
  {
   "cell_type": "code",
   "execution_count": 11,
   "id": "d7b1a43c-9e24-4ba4-bdd8-f43447180db6",
   "metadata": {},
   "outputs": [
    {
     "data": {
      "text/plain": [
       "tensor([[ 0.9918, -0.9918,  0.1978,  ...,  1.0346,  0.2729,  0.8769],\n",
       "        [-1.0083,  1.0083, -1.2781,  ..., -1.3699, -1.9218, -1.2902],\n",
       "        [-1.0083,  1.0083,  0.6110,  ...,  0.4335,  1.0044,  0.3670],\n",
       "        ...,\n",
       "        [-1.0083,  1.0083,  0.8472,  ..., -0.8890, -0.5632, -0.6528],\n",
       "        [-1.0083,  1.0083, -0.4516,  ..., -0.4081,  0.1683,  0.2395],\n",
       "        [-1.0083,  1.0083, -0.9829,  ...,  0.0728, -0.4587,  0.6219]],\n",
       "       dtype=torch.float64)"
      ]
     },
     "execution_count": 11,
     "metadata": {},
     "output_type": "execute_result"
    }
   ],
   "source": [
    "X_train_norm"
   ]
  },
  {
   "cell_type": "code",
   "execution_count": 120,
   "id": "2485f46e-f478-4dc9-a4ca-cf77631691f3",
   "metadata": {},
   "outputs": [],
   "source": [
    "W = torch.randn(8, requires_grad=True , dtype=torch.float64)\n",
    "B = torch.randn(1, requires_grad=True)"
   ]
  },
  {
   "cell_type": "code",
   "execution_count": 121,
   "id": "e3b7b61b-74c4-4595-a304-d723108e2fda",
   "metadata": {},
   "outputs": [],
   "source": [
    "Y_train_norm_squeezed = torch.squeeze(Y_train_norm)\n",
    "Y_val_norm_squeezed = torch.squeeze(Y_val_norm)"
   ]
  },
  {
   "cell_type": "markdown",
   "id": "81c0d195-7828-4452-b61c-3b8ebaefdf71",
   "metadata": {},
   "source": [
    "#Forward pass"
   ]
  },
  {
   "cell_type": "code",
   "execution_count": 126,
   "id": "aadb3ac7-1890-475a-b593-94aca984bf3c",
   "metadata": {},
   "outputs": [
    {
     "name": "stdout",
     "output_type": "stream",
     "text": [
      "iteration: 0 Loss: 0.42879981865501765 Val Loss: 0.42552442639045635\n",
      "iteration: 1 Loss: 0.4263867114691963 Val Loss: 0.422350822216107\n",
      "iteration: 2 Loss: 0.4231808614511047 Val Loss: 0.4184178522742405\n",
      "iteration: 3 Loss: 0.4192070055206926 Val Loss: 0.4137563458347498\n",
      "iteration: 4 Loss: 0.41449604942134516 Val Loss: 0.4084029734720252\n",
      "iteration: 5 Loss: 0.40908475699857866 Val Loss: 0.40240004828167747\n",
      "iteration: 6 Loss: 0.4030155523031009 Val Loss: 0.39579505514407415\n",
      "iteration: 7 Loss: 0.3963360471531598 Val Loss: 0.38864041922808956\n",
      "iteration: 8 Loss: 0.3890988110991068 Val Loss: 0.3809929387578657\n",
      "iteration: 9 Loss: 0.3813608021994912 Val Loss: 0.37291343275707983\n",
      "iteration: 10 Loss: 0.37318301565009504 Val Loss: 0.364466233928647\n",
      "iteration: 11 Loss: 0.36462997610984993 Val Loss: 0.35571865793033736\n",
      "iteration: 12 Loss: 0.35576920642156046 Val Loss: 0.34674045328006986\n",
      "iteration: 13 Loss: 0.34667067696120824 Val Loss: 0.33760325609823677\n",
      "iteration: 14 Loss: 0.3374062601114245 Val Loss: 0.32838000991071725\n",
      "iteration: 15 Loss: 0.32804914950674474 Val Loss: 0.3191444147684331\n",
      "iteration: 16 Loss: 0.31867330917111397 Val Loss: 0.30997029320461406\n",
      "iteration: 17 Loss: 0.3093528383390978 Val Loss: 0.30093100051660043\n",
      "iteration: 18 Loss: 0.3001613811766974 Val Loss: 0.2920988559811422\n",
      "iteration: 19 Loss: 0.29117155772323755 Val Loss: 0.2835445703742636\n",
      "iteration: 20 Loss: 0.28245439099289243 Val Loss: 0.2753366499456774\n",
      "iteration: 21 Loss: 0.2740787098079447 Val Loss: 0.26754086684422834\n",
      "iteration: 22 Loss: 0.2661106189477071 Val Loss: 0.26021972177961955\n",
      "iteration: 23 Loss: 0.25861296095524633 Val Loss: 0.2534319529166375\n",
      "iteration: 24 Loss: 0.2516448246086575 Val Loss: 0.24723205142069382\n",
      "iteration: 25 Loss: 0.24526105946462193 Val Loss: 0.2416698301468563\n",
      "iteration: 26 Loss: 0.23951184397752084 Val Loss: 0.23679002330898496\n",
      "iteration: 27 Loss: 0.23444228445300164 Val Loss: 0.2326319266191666\n",
      "iteration: 28 Loss: 0.23009205447059866 Val Loss: 0.22922907824022645\n",
      "iteration: 29 Loss: 0.2264950749734731 Val Loss: 0.22660899084961525\n",
      "iteration: 30 Loss: 0.22367924568520264 Val Loss: 0.22479292709179002\n",
      "iteration: 31 Loss: 0.22166621962436067 Val Loss: 0.2237957300620674\n",
      "iteration: 32 Loss: 0.2204712330473121 Val Loss: 0.22362569986976352\n",
      "iteration: 33 Loss: 0.2201029810347434 Val Loss: 0.22428452574282476\n",
      "iteration: 34 Loss: 0.22056354887168225 Val Loss: 0.2257672700514902\n",
      "iteration: 35 Loss: 0.2218483952728781 Val Loss: 0.22806240596676866\n",
      "iteration: 36 Loss: 0.22394638920544807 Val Loss: 0.2311519062084515\n",
      "Early stopping!\n"
     ]
    }
   ],
   "source": [
    "epoch = 10000\n",
    "patience = 5\n",
    "no_imp = 0\n",
    "best_val_loss = float('inf')\n",
    "for i in range(epoch):\n",
    "    y_pred = torch.matmul(X_train_norm,W.t()) + B\n",
    "    loss=torch.mean((y_pred - Y_train_norm_squeezed)**2)\n",
    "    W.grad = None\n",
    "    loss.backward()\n",
    "    W.data = W.data - (0.001 * W.grad)\n",
    "    B.data = B.data - (0.001 * B.grad)\n",
    "    with torch.no_grad():\n",
    "        y_pred_val = torch.matmul(X_val_norm,W.t()) + B\n",
    "        loss_val = torch.mean((y_pred_val - Y_val_norm_squeezed)**2)\n",
    "    if loss_val < best_val_loss:\n",
    "        best_val_loss = loss_val\n",
    "        no_imp = 0\n",
    "    else:\n",
    "        no_imp += 1\n",
    "\n",
    "    if no_imp >= patience:\n",
    "        print(\"Early stopping!\")\n",
    "        break\n",
    "    print(f'iteration: {i} Loss: {loss} Val Loss: {loss_val}')"
   ]
  },
  {
   "cell_type": "code",
   "execution_count": 127,
   "id": "59b0912a-0be2-487d-a191-62a979827612",
   "metadata": {},
   "outputs": [],
   "source": [
    "with torch.no_grad():\n",
    "    y_test = torch.matmul(X_test_norm,W.t()) + B"
   ]
  },
  {
   "cell_type": "code",
   "execution_count": 128,
   "id": "4f4e1c1d-82ee-47a3-8888-022a8eba65d6",
   "metadata": {},
   "outputs": [
    {
     "data": {
      "text/plain": [
       "tensor([-0.7973,  0.8172, -0.1697,  ..., -0.0863,  0.1420,  0.0813],\n",
       "       dtype=torch.float64)"
      ]
     },
     "execution_count": 128,
     "metadata": {},
     "output_type": "execute_result"
    }
   ],
   "source": [
    "y_test"
   ]
  },
  {
   "cell_type": "code",
   "execution_count": 129,
   "id": "7976e3b5-381d-410d-9e1a-0a0e75102edb",
   "metadata": {},
   "outputs": [
    {
     "data": {
      "text/plain": [
       "tensor([[-0.6501],\n",
       "        [ 1.5814],\n",
       "        [-0.3451],\n",
       "        ...,\n",
       "        [-0.3451],\n",
       "        [ 0.2650],\n",
       "        [ 0.2329]], dtype=torch.float64)"
      ]
     },
     "execution_count": 129,
     "metadata": {},
     "output_type": "execute_result"
    }
   ],
   "source": [
    "Y_test_norm"
   ]
  },
  {
   "cell_type": "code",
   "execution_count": 130,
   "id": "f000e2bd-0446-4cb7-9bf6-d92d83e60edb",
   "metadata": {},
   "outputs": [],
   "source": [
    "loss_test = torch.mean((y_test - Y_test_norm)**2)"
   ]
  },
  {
   "cell_type": "code",
   "execution_count": 62,
   "id": "5c8e6b83-ce76-4c12-8dec-0ef4bcc2042c",
   "metadata": {},
   "outputs": [
    {
     "data": {
      "text/plain": [
       "tensor([[-0.5036,  1.3454, -0.2837,  ...,  0.2351,  0.1875,  0.3446]],\n",
       "       dtype=torch.float64, grad_fn=<ViewBackward0>)"
      ]
     },
     "execution_count": 62,
     "metadata": {},
     "output_type": "execute_result"
    }
   ],
   "source": [
    "y_test.reshape(1,-1)\n"
   ]
  },
  {
   "cell_type": "code",
   "execution_count": 131,
   "id": "c20e0a01-ac4c-4551-ab21-39c08a85ee66",
   "metadata": {},
   "outputs": [
    {
     "data": {
      "text/plain": [
       "tensor(2.0624, dtype=torch.float64)"
      ]
     },
     "execution_count": 131,
     "metadata": {},
     "output_type": "execute_result"
    }
   ],
   "source": [
    "loss_test"
   ]
  },
  {
   "cell_type": "code",
   "execution_count": 132,
   "id": "8f5dadda-a2d1-4693-99a0-58e498ce2d3b",
   "metadata": {},
   "outputs": [],
   "source": [
    "mean2 = scaler2.mean_"
   ]
  },
  {
   "cell_type": "code",
   "execution_count": 133,
   "id": "871548ad-37b3-4443-a046-79aa01be95c2",
   "metadata": {},
   "outputs": [],
   "source": [
    "var2 = scaler2.var_"
   ]
  },
  {
   "cell_type": "code",
   "execution_count": 134,
   "id": "977c7bd3-5985-4c54-960d-d3d22256467e",
   "metadata": {},
   "outputs": [],
   "source": [
    "std2 = var2**(1/2)"
   ]
  },
  {
   "cell_type": "code",
   "execution_count": 88,
   "id": "8f1a807e-91e2-4b21-94f9-1cae7997b287",
   "metadata": {},
   "outputs": [
    {
     "data": {
      "text/plain": [
       "array([3879.91752217])"
      ]
     },
     "execution_count": 88,
     "metadata": {},
     "output_type": "execute_result"
    }
   ],
   "source": [
    "var2"
   ]
  },
  {
   "cell_type": "code",
   "execution_count": 89,
   "id": "71388a64-a214-4997-abfb-3a488647d5dc",
   "metadata": {},
   "outputs": [
    {
     "data": {
      "text/plain": [
       "array([62.28898396])"
      ]
     },
     "execution_count": 89,
     "metadata": {},
     "output_type": "execute_result"
    }
   ],
   "source": [
    "std2"
   ]
  },
  {
   "cell_type": "code",
   "execution_count": 135,
   "id": "c307eba9-4336-469c-801d-f7c6a3be1d20",
   "metadata": {},
   "outputs": [],
   "source": [
    "y_end = y_test.numpy() * std2 + mean2"
   ]
  },
  {
   "cell_type": "code",
   "execution_count": 105,
   "id": "94d63733-6484-4527-a85e-819e804a6b0f",
   "metadata": {},
   "outputs": [],
   "source": [
    "y_end += mean2"
   ]
  },
  {
   "cell_type": "code",
   "execution_count": 136,
   "id": "e4936165-d6f1-4247-bbe1-9284bbca5298",
   "metadata": {},
   "outputs": [
    {
     "data": {
      "text/plain": [
       "np.float64(83.58039156573848)"
      ]
     },
     "execution_count": 136,
     "metadata": {},
     "output_type": "execute_result"
    }
   ],
   "source": [
    "y_end.mean()"
   ]
  },
  {
   "cell_type": "code",
   "execution_count": 137,
   "id": "7be0880c-a07b-47f4-b836-4ac264a43f6b",
   "metadata": {},
   "outputs": [
    {
     "data": {
      "text/plain": [
       "tensor(90.6217)"
      ]
     },
     "execution_count": 137,
     "metadata": {},
     "output_type": "execute_result"
    }
   ],
   "source": [
    "Y_test.mean()"
   ]
  },
  {
   "cell_type": "code",
   "execution_count": 138,
   "id": "27dd0f46-083c-4ecc-a1af-65fcf2b7a7e3",
   "metadata": {},
   "outputs": [
    {
     "data": {
      "text/plain": [
       "array([ 38.83406963, 139.39527709,  77.92679892, ...,  83.11598378,\n",
       "        97.3405812 ,  93.56074472], shape=(3000,))"
      ]
     },
     "execution_count": 138,
     "metadata": {},
     "output_type": "execute_result"
    }
   ],
   "source": [
    "y_end"
   ]
  },
  {
   "cell_type": "code",
   "execution_count": 139,
   "id": "97bd9912-9608-4442-89d5-fe60dd86b743",
   "metadata": {},
   "outputs": [
    {
     "data": {
      "text/plain": [
       "tensor([[ 48.],\n",
       "        [187.],\n",
       "        [ 67.],\n",
       "        ...,\n",
       "        [ 67.],\n",
       "        [105.],\n",
       "        [103.]])"
      ]
     },
     "execution_count": 139,
     "metadata": {},
     "output_type": "execute_result"
    }
   ],
   "source": [
    "Y_test"
   ]
  },
  {
   "cell_type": "code",
   "execution_count": 142,
   "id": "ece51c58-cc9c-4118-93c8-b2cef0a40995",
   "metadata": {},
   "outputs": [],
   "source": [
    "#userid, male, female, age, height,weight, duration, heartrate, bodytemp, colories"
   ]
  },
  {
   "cell_type": "code",
   "execution_count": 184,
   "id": "7a7a60c0-d5a7-40cf-a0e0-10241487162d",
   "metadata": {},
   "outputs": [],
   "source": [
    "X_predict = torch.Tensor([0,1,68,190,94,29,105,40]).double()"
   ]
  },
  {
   "cell_type": "code",
   "execution_count": 185,
   "id": "82a5645a-b3b6-4fb7-8a7b-c8cf5e85ba28",
   "metadata": {},
   "outputs": [],
   "source": [
    "cal_pred = X_predict @ W.t() + B"
   ]
  },
  {
   "cell_type": "code",
   "execution_count": 186,
   "id": "8b26ba9d-cacb-4e4e-af8b-14dbcbb61095",
   "metadata": {},
   "outputs": [
    {
     "data": {
      "text/plain": [
       "tensor([88.5997], grad_fn=<AddBackward0>)"
      ]
     },
     "execution_count": 186,
     "metadata": {},
     "output_type": "execute_result"
    }
   ],
   "source": [
    "cal_pred"
   ]
  },
  {
   "cell_type": "code",
   "execution_count": 182,
   "id": "2ecd253d-7c00-4c0e-ad64-5f39f0497a2b",
   "metadata": {},
   "outputs": [
    {
     "data": {
      "text/plain": [
       "tensor([  0.0000,   1.0000,  68.0000, 190.0000,  94.0000,  29.0000, 105.0000,\n",
       "         40.8000])"
      ]
     },
     "execution_count": 182,
     "metadata": {},
     "output_type": "execute_result"
    }
   ],
   "source": [
    "X[0]"
   ]
  },
  {
   "cell_type": "code",
   "execution_count": 183,
   "id": "8a7b0520-b870-4f93-89a3-4a5ad9210cbc",
   "metadata": {},
   "outputs": [
    {
     "data": {
      "text/plain": [
       "tensor([231.])"
      ]
     },
     "execution_count": 183,
     "metadata": {},
     "output_type": "execute_result"
    }
   ],
   "source": [
    "Y[0]"
   ]
  },
  {
   "cell_type": "code",
   "execution_count": null,
   "id": "985a4b02-6e5b-4798-9901-eadae0cfdb0d",
   "metadata": {},
   "outputs": [],
   "source": []
  }
 ],
 "metadata": {
  "kernelspec": {
   "display_name": "Python 3 (ipykernel)",
   "language": "python",
   "name": "python3"
  },
  "language_info": {
   "codemirror_mode": {
    "name": "ipython",
    "version": 3
   },
   "file_extension": ".py",
   "mimetype": "text/x-python",
   "name": "python",
   "nbconvert_exporter": "python",
   "pygments_lexer": "ipython3",
   "version": "3.13.2"
  }
 },
 "nbformat": 4,
 "nbformat_minor": 5
}
